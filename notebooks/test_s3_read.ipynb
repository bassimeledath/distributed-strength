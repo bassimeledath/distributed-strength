{
 "cells": [
  {
   "cell_type": "code",
   "execution_count": 4,
   "metadata": {},
   "outputs": [
    {
     "name": "stderr",
     "output_type": "stream",
     "text": [
      "/var/folders/g9/p1ndxj7d5xjcn94hnzj5r_xm0000gn/T/ipykernel_93802/107753888.py:15: DtypeWarning: Columns (33,38) have mixed types. Specify dtype option on import or set low_memory=False.\n",
      "  df = pd.read_csv(io.BytesIO(obj['Body'].read()))\n"
     ]
    },
    {
     "name": "stdout",
     "output_type": "stream",
     "text": [
      "             Name Sex Event   Equipment   Age AgeClass BirthYearClass  \\\n",
      "0   Karen Thomson   F   SBD  Single-ply  39.5    35-39          40-49   \n",
      "1  Deborah Groves   F   SBD  Single-ply  30.5    24-34          24-39   \n",
      "2     Renee Orbon   F   SBD  Single-ply  31.5    24-34          24-39   \n",
      "3  Rikki Flanders   F   SBD  Single-ply  31.5    24-34          24-39   \n",
      "4  Julie Hallmond   F   SBD  Single-ply   NaN      NaN          50-59   \n",
      "\n",
      "    Division  BodyweightKg WeightClassKg  ...  Tested      Country  State  \\\n",
      "0  Masters 1         51.90            52  ...     Yes  New Zealand    NaN   \n",
      "1       Open         50.64            52  ...     Yes    Australia    NaN   \n",
      "2       Open         55.76            56  ...     Yes  New Zealand    NaN   \n",
      "3       Open         56.42            60  ...     Yes    Australia    NaN   \n",
      "4  Masters 2         58.20            60  ...     Yes  New Zealand    NaN   \n",
      "\n",
      "   Federation  ParentFederation        Date  MeetCountry  MeetState  MeetTown  \\\n",
      "0   OceaniaPF               IPF  2002-12-06  New Zealand        BOP  Tauranga   \n",
      "1   OceaniaPF               IPF  2002-12-06  New Zealand        BOP  Tauranga   \n",
      "2   OceaniaPF               IPF  2002-12-06  New Zealand        BOP  Tauranga   \n",
      "3   OceaniaPF               IPF  2002-12-06  New Zealand        BOP  Tauranga   \n",
      "4   OceaniaPF               IPF  2002-12-06  New Zealand        BOP  Tauranga   \n",
      "\n",
      "                MeetName  \n",
      "0  Oceania Championships  \n",
      "1  Oceania Championships  \n",
      "2  Oceania Championships  \n",
      "3  Oceania Championships  \n",
      "4  Oceania Championships  \n",
      "\n",
      "[5 rows x 41 columns]\n"
     ]
    }
   ],
   "source": [
    "import boto3\n",
    "import pandas as pd\n",
    "import io\n",
    "\n",
    "BUCKET_NAME = 'msds-694-19'\n",
    "FILE_NAME = 'data/openipf.csv'\n",
    "\n",
    "# Create an S3 client\n",
    "s3 = boto3.client('s3')\n",
    "\n",
    "# Get the object from the bucket\n",
    "obj = s3.get_object(Bucket=BUCKET_NAME, Key=FILE_NAME)\n",
    "\n",
    "# Read the object (CSV file) directly into a Pandas DataFrame\n",
    "df = pd.read_csv(io.BytesIO(obj['Body'].read()))\n",
    "\n",
    "# Display the first 5 rows of the DataFrame\n",
    "print(df.head())"
   ]
  },
  {
   "cell_type": "code",
   "execution_count": null,
   "metadata": {},
   "outputs": [],
   "source": []
  }
 ],
 "metadata": {
  "kernelspec": {
   "display_name": "env",
   "language": "python",
   "name": "python3"
  },
  "language_info": {
   "codemirror_mode": {
    "name": "ipython",
    "version": 3
   },
   "file_extension": ".py",
   "mimetype": "text/x-python",
   "name": "python",
   "nbconvert_exporter": "python",
   "pygments_lexer": "ipython3",
   "version": "3.10.9"
  }
 },
 "nbformat": 4,
 "nbformat_minor": 2
}
